{
 "cells": [
  {
   "cell_type": "code",
   "execution_count": 3,
   "metadata": {},
   "outputs": [],
   "source": [
    "import cv2\n",
    "import numpy as np\n",
    "# from cairosvg import svg2png"
   ]
  },
  {
   "cell_type": "code",
   "execution_count": 4,
   "metadata": {},
   "outputs": [
    {
     "name": "stdout",
     "output_type": "stream",
     "text": [
      "Rows:  429 Cols:  434\n"
     ]
    }
   ],
   "source": [
    "image = cv2.imread('./Mushroom.png')\n",
    "# svg2png(bytestring=image,write_to='Mushroom.png')\n",
    "rows, cols, _ = image.shape\n",
    "print(\"Rows: \", rows, \"Cols: \", cols)"
   ]
  },
  {
   "cell_type": "code",
   "execution_count": 18,
   "metadata": {},
   "outputs": [],
   "source": [
    "size = 20\n",
    "multiplier = 2\n",
    "section_width = size\n",
    "section_height = size"
   ]
  },
  {
   "cell_type": "code",
   "execution_count": 19,
   "metadata": {},
   "outputs": [
    {
     "name": "stdout",
     "output_type": "stream",
     "text": [
      "21 21\n"
     ]
    }
   ],
   "source": [
    "num_rows = rows // section_height\n",
    "num_cols = cols // section_width\n",
    "\n",
    "print(num_rows, num_cols)\n",
    "\n",
    "sections = []\n",
    "for y in range(0, num_rows*section_height, section_height):\n",
    "    for x in range(0, num_cols*section_width, section_width):\n",
    "        section = image[y:y + section_height, x:x + section_width]\n",
    "        sections.append(section)\n"
   ]
  },
  {
   "cell_type": "code",
   "execution_count": 16,
   "metadata": {},
   "outputs": [],
   "source": [
    "def get_average_color(section):\n",
    "    average_color = np.mean(section, axis=(0, 1)).astype(int)\n",
    "    return tuple(average_color)\n",
    "\n",
    "colors = [get_average_color(section) for section in sections]"
   ]
  },
  {
   "cell_type": "code",
   "execution_count": 8,
   "metadata": {},
   "outputs": [],
   "source": [
    "cv2.imshow('Image with Colored Sections', image)\n",
    "cv2.waitKey(0)\n",
    "cv2.destroyAllWindows()\n"
   ]
  },
  {
   "cell_type": "code",
   "execution_count": 17,
   "metadata": {},
   "outputs": [],
   "source": [
    "section_width_length = int(size*multiplier)\n",
    "blank_image = np.zeros((section_width_length * num_rows, section_width_length * num_cols, 3), np.uint8)\n",
    "\n",
    "for i, color in enumerate(colors):\n",
    "    row = i // num_cols\n",
    "    col = i % num_cols\n",
    "    top_left = (col * section_width_length, row * section_width_length)\n",
    "    bottom_right = ((col + 1) * section_width_length, (row + 1) * section_width_length)\n",
    "    blank_image[row * section_width_length:(row + 1) * section_width_length,\n",
    "    col * section_width_length:(col + 1) * section_width_length] = color\n",
    "    # print(i, color, type(color))\n",
    "\n",
    "cv2.imwrite('mushroom_pixelated.jpg', blank_image)\n",
    "\n",
    "cv2.imshow('Image with Colored Sections', blank_image)\n",
    "cv2.waitKey(0)\n",
    "cv2.destroyAllWindows()"
   ]
  }
 ],
 "metadata": {
  "kernelspec": {
   "display_name": "Python 3",
   "language": "python",
   "name": "python3"
  },
  "language_info": {
   "codemirror_mode": {
    "name": "ipython",
    "version": 3
   },
   "file_extension": ".py",
   "mimetype": "text/x-python",
   "name": "python",
   "nbconvert_exporter": "python",
   "pygments_lexer": "ipython3",
   "version": "3.12.2"
  }
 },
 "nbformat": 4,
 "nbformat_minor": 2
}
